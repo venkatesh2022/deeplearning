{
 "cells": [
  {
   "cell_type": "code",
   "execution_count": 65,
   "metadata": {},
   "outputs": [],
   "source": [
    "## Train and evaluate a simple Multilayer Perceptron on the Reuters newswire topic classification task"
   ]
  },
  {
   "cell_type": "code",
   "execution_count": 66,
   "metadata": {},
   "outputs": [],
   "source": [
    "from keras.models import Sequential\n",
    "from keras.layers import Dense\n",
    "import numpy as np"
   ]
  },
  {
   "cell_type": "code",
   "execution_count": 67,
   "metadata": {},
   "outputs": [],
   "source": [
    "from __future__ import print_function\n",
    "np.random.seed(1337)  # for reproducibility"
   ]
  },
  {
   "cell_type": "code",
   "execution_count": 68,
   "metadata": {},
   "outputs": [],
   "source": [
    "from keras.datasets import reuters\n",
    "from keras.layers import Dense,Dropout,Activation\n",
    "from keras.utils import np_utils\n",
    "from keras.preprocessing.text import Tokenizer"
   ]
  },
  {
   "cell_type": "code",
   "execution_count": 69,
   "metadata": {},
   "outputs": [],
   "source": [
    "import keras\n",
    "import keras.utils\n",
    "from keras import utils as np_utils"
   ]
  },
  {
   "cell_type": "code",
   "execution_count": 70,
   "metadata": {},
   "outputs": [],
   "source": [
    "#define Parameters\n",
    "max_words=1000\n",
    "batch_size=32\n",
    "nb_epoch=5"
   ]
  },
  {
   "cell_type": "code",
   "execution_count": 71,
   "metadata": {},
   "outputs": [
    {
     "name": "stdout",
     "output_type": "stream",
     "text": [
      "WARNING:tensorflow:The `nb_words` argument in `load_data` has been renamed `num_words`.\n",
      "8982 Train Sequences\n",
      "2246 Test Sequences\n"
     ]
    }
   ],
   "source": [
    "#Load Data\n",
    "(X_train,y_train),(X_test,y_test)=reuters.load_data(nb_words=max_words,test_split=0.2)\n",
    "print(len(X_train),'Train Sequences')\n",
    "print(len(X_test),'Test Sequences')"
   ]
  },
  {
   "cell_type": "code",
   "execution_count": 72,
   "metadata": {},
   "outputs": [
    {
     "name": "stdout",
     "output_type": "stream",
     "text": [
      "8982 Train Sequences\n",
      "2246 Test Sequences\n"
     ]
    }
   ],
   "source": [
    "#Load Data\n",
    "(X_train,y_train),(X_test,y_test)=reuters.load_data(num_words=max_words,test_split=0.2)\n",
    "print(len(X_train),'Train Sequences')\n",
    "print(len(X_test),'Test Sequences')"
   ]
  },
  {
   "cell_type": "code",
   "execution_count": 73,
   "metadata": {},
   "outputs": [
    {
     "name": "stdout",
     "output_type": "stream",
     "text": [
      "46 Classes\n"
     ]
    }
   ],
   "source": [
    "#number of classes\n",
    "num_classes=np.max(y_train)+1\n",
    "print(num_classes,'Classes')"
   ]
  },
  {
   "cell_type": "code",
   "execution_count": 74,
   "metadata": {},
   "outputs": [
    {
     "name": "stdout",
     "output_type": "stream",
     "text": [
      "X_train_shape:  (8982, 1000)\n",
      "X_test_shape:  (2246, 1000)\n"
     ]
    }
   ],
   "source": [
    "#Vectorize the data\n",
    "tokenizer=Tokenizer(num_words=max_words)\n",
    "X_train=tokenizer.sequences_to_matrix(X_train,mode='binary')\n",
    "X_test=tokenizer.sequences_to_matrix(X_test,mode='binary')\n",
    "print('X_train_shape: ', X_train.shape)\n",
    "print('X_test_shape: ',X_test.shape)"
   ]
  },
  {
   "cell_type": "code",
   "execution_count": 75,
   "metadata": {},
   "outputs": [
    {
     "name": "stdout",
     "output_type": "stream",
     "text": [
      "y_train shape:  (8982, 46)\n",
      "y_test shape:  (2246, 46)\n"
     ]
    }
   ],
   "source": [
    "y_train=np_utils.to_categorical(y_train,nb_classes)\n",
    "y_test=np_utils.to_categorical(y_test,nb_classes)\n",
    "\n",
    "print('y_train shape: ',y_train.shape)\n",
    "print('y_test shape: ',y_test.shape)"
   ]
  },
  {
   "cell_type": "code",
   "execution_count": 76,
   "metadata": {},
   "outputs": [],
   "source": [
    "#Building the model\n",
    "model=Sequential()\n",
    "model.add(Dense(512,input_shape=(max_words,)))\n",
    "model.add(Activation('relu'))\n",
    "model.add(Dropout(0.5))\n",
    "model.add(Dense(nb_classes))\n",
    "model.add(Activation('softmax'))"
   ]
  },
  {
   "cell_type": "code",
   "execution_count": 77,
   "metadata": {},
   "outputs": [],
   "source": [
    "# Compile the model\n",
    "model.compile(loss='categorical_crossentropy',optimizer='adam')"
   ]
  },
  {
   "cell_type": "code",
   "execution_count": 80,
   "metadata": {},
   "outputs": [
    {
     "name": "stdout",
     "output_type": "stream",
     "text": [
      "Epoch 1/5\n",
      "253/253 [==============================] - 1s 4ms/step - loss: 1.4124 - val_loss: 1.0822\n",
      "Epoch 2/5\n",
      "253/253 [==============================] - 1s 4ms/step - loss: 0.7811 - val_loss: 0.9242\n",
      "Epoch 3/5\n",
      "253/253 [==============================] - 2s 6ms/step - loss: 0.5456 - val_loss: 0.8567\n",
      "Epoch 4/5\n",
      "253/253 [==============================] - 1s 4ms/step - loss: 0.4160 - val_loss: 0.8710\n",
      "Epoch 5/5\n",
      "253/253 [==============================] - 1s 5ms/step - loss: 0.3251 - val_loss: 0.9126\n"
     ]
    }
   ],
   "source": [
    "#Fit the model with training data\n",
    "history=model.fit(X_train,y_train, epochs = nb_epoch, batch_size = batch_size, verbose=1, validation_split=0.1)"
   ]
  },
  {
   "cell_type": "code",
   "execution_count": 81,
   "metadata": {},
   "outputs": [
    {
     "name": "stdout",
     "output_type": "stream",
     "text": [
      "71/71 [==============================] - 0s 1ms/step - loss: 0.9043\n",
      "Test Score:  0.9042738080024719\n",
      "Test Accuracy:  0.9042738080024719\n"
     ]
    }
   ],
   "source": [
    "#Evaluate the Model\n",
    "score=model.evaluate(X_test,y_test,batch_size=batch_size,verbose=1)\n",
    "print('Test Score: ',score)\n",
    "print('Test Accuracy: ', score)"
   ]
  },
  {
   "cell_type": "code",
   "execution_count": null,
   "metadata": {},
   "outputs": [],
   "source": []
  }
 ],
 "metadata": {
  "kernelspec": {
   "display_name": "Python 3",
   "language": "python",
   "name": "python3"
  },
  "language_info": {
   "codemirror_mode": {
    "name": "ipython",
    "version": 3
   },
   "file_extension": ".py",
   "mimetype": "text/x-python",
   "name": "python",
   "nbconvert_exporter": "python",
   "pygments_lexer": "ipython3",
   "version": "3.7.4"
  }
 },
 "nbformat": 4,
 "nbformat_minor": 2
}
